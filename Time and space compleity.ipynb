{
 "cells": [
  {
   "cell_type": "code",
   "execution_count": 14,
   "metadata": {},
   "outputs": [
    {
     "name": "stdout",
     "output_type": "stream",
     "text": [
      "Total time:  0.0001800060272216797\n",
      "Total space consumed:  68341760\n"
     ]
    }
   ],
   "source": [
    "import time\n",
    "import resource\n",
    "# process = ps\n",
    "start_time = time.time()\n",
    "a = 15\n",
    "b = 20\n",
    "a = a + b\n",
    "b = a - b\n",
    "a = a - b\n",
    "print(\"Total time: \", (time.time()-start_time))\n",
    "print(\"Total space consumed: \", resource.getrusage(resource.RUSAGE_SELF).ru_maxrss)"
   ]
  },
  {
   "cell_type": "code",
   "execution_count": 15,
   "metadata": {},
   "outputs": [
    {
     "name": "stdout",
     "output_type": "stream",
     "text": [
      "Total time:  0.0001919269561767578\n",
      "Total space consumed:  68345856\n"
     ]
    }
   ],
   "source": [
    "import time\n",
    "start_time = time.time()\n",
    "a = 15\n",
    "b = 20\n",
    "temp = a\n",
    "a = b\n",
    "b = temp\n",
    "print(\"Total time: \", (time.time()-start_time))\n",
    "print(\"Total space consumed: \", resource.getrusage(resource.RUSAGE_SELF).ru_maxrss)"
   ]
  }
 ],
 "metadata": {
  "kernelspec": {
   "display_name": "Python 3",
   "language": "python",
   "name": "python3"
  },
  "language_info": {
   "codemirror_mode": {
    "name": "ipython",
    "version": 3
   },
   "file_extension": ".py",
   "mimetype": "text/x-python",
   "name": "python",
   "nbconvert_exporter": "python",
   "pygments_lexer": "ipython3",
   "version": "3.7.3"
  }
 },
 "nbformat": 4,
 "nbformat_minor": 2
}
